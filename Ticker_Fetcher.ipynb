{
  "nbformat": 4,
  "nbformat_minor": 0,
  "metadata": {
    "colab": {
      "provenance": [],
      "authorship_tag": "ABX9TyMuSytAzoeWI9MJcgIGEcCr",
      "include_colab_link": true
    },
    "kernelspec": {
      "name": "python3",
      "display_name": "Python 3"
    },
    "language_info": {
      "name": "python"
    }
  },
  "cells": [
    {
      "cell_type": "markdown",
      "metadata": {
        "id": "view-in-github",
        "colab_type": "text"
      },
      "source": [
        "<a href=\"https://colab.research.google.com/github/AnanthSrinivasan/TickerFetcherDemo/blob/main/Ticker_Fetcher.ipynb\" target=\"_parent\"><img src=\"https://colab.research.google.com/assets/colab-badge.svg\" alt=\"Open In Colab\"/></a>"
      ]
    },
    {
      "cell_type": "code",
      "source": [
        "# Installing the libraries with the specified version.\n",
        "!pip install pandas==2.2.2 numpy==1.25.2 requests beautifulsoup4 gradio -q --user"
      ],
      "metadata": {
        "colab": {
          "base_uri": "https://localhost:8080/"
        },
        "id": "WhGY3ddRE0vB",
        "outputId": "44c4e3b4-5d38-43a3-8596-d6667d2aa688"
      },
      "execution_count": null,
      "outputs": [
        {
          "output_type": "stream",
          "name": "stdout",
          "text": [
            "\u001b[2K   \u001b[90m━━━━━━━━━━━━━━━━━━━━━━━━━━━━━━━━━━━━━━━━\u001b[0m \u001b[32m18.2/18.2 MB\u001b[0m \u001b[31m67.9 MB/s\u001b[0m eta \u001b[36m0:00:00\u001b[0m\n",
            "\u001b[2K   \u001b[90m━━━━━━━━━━━━━━━━━━━━━━━━━━━━━━━━━━━━━━━━\u001b[0m \u001b[32m57.2/57.2 MB\u001b[0m \u001b[31m15.9 MB/s\u001b[0m eta \u001b[36m0:00:00\u001b[0m\n",
            "\u001b[2K   \u001b[90m━━━━━━━━━━━━━━━━━━━━━━━━━━━━━━━━━━━━━━━━\u001b[0m \u001b[32m320.4/320.4 kB\u001b[0m \u001b[31m18.3 MB/s\u001b[0m eta \u001b[36m0:00:00\u001b[0m\n",
            "\u001b[2K   \u001b[90m━━━━━━━━━━━━━━━━━━━━━━━━━━━━━━━━━━━━━━━━\u001b[0m \u001b[32m94.8/94.8 kB\u001b[0m \u001b[31m5.2 MB/s\u001b[0m eta \u001b[36m0:00:00\u001b[0m\n",
            "\u001b[2K   \u001b[90m━━━━━━━━━━━━━━━━━━━━━━━━━━━━━━━━━━━━━━━━\u001b[0m \u001b[32m11.2/11.2 MB\u001b[0m \u001b[31m83.9 MB/s\u001b[0m eta \u001b[36m0:00:00\u001b[0m\n",
            "\u001b[2K   \u001b[90m━━━━━━━━━━━━━━━━━━━━━━━━━━━━━━━━━━━━━━━━\u001b[0m \u001b[32m73.2/73.2 kB\u001b[0m \u001b[31m4.6 MB/s\u001b[0m eta \u001b[36m0:00:00\u001b[0m\n",
            "\u001b[2K   \u001b[90m━━━━━━━━━━━━━━━━━━━━━━━━━━━━━━━━━━━━━━━━\u001b[0m \u001b[32m62.3/62.3 kB\u001b[0m \u001b[31m4.1 MB/s\u001b[0m eta \u001b[36m0:00:00\u001b[0m\n",
            "\u001b[?25h\u001b[33m  WARNING: The script uvicorn is installed in '/root/.local/bin' which is not on PATH.\n",
            "  Consider adding this directory to PATH or, if you prefer to suppress this warning, use --no-warn-script-location.\u001b[0m\u001b[33m\n",
            "\u001b[0m\u001b[33m  WARNING: The scripts f2py, f2py3 and f2py3.10 are installed in '/root/.local/bin' which is not on PATH.\n",
            "  Consider adding this directory to PATH or, if you prefer to suppress this warning, use --no-warn-script-location.\u001b[0m\u001b[33m\n",
            "\u001b[0m\u001b[33m  WARNING: The script fastapi is installed in '/root/.local/bin' which is not on PATH.\n",
            "  Consider adding this directory to PATH or, if you prefer to suppress this warning, use --no-warn-script-location.\u001b[0m\u001b[33m\n",
            "\u001b[0m\u001b[33m  WARNING: The scripts gradio and upload_theme are installed in '/root/.local/bin' which is not on PATH.\n",
            "  Consider adding this directory to PATH or, if you prefer to suppress this warning, use --no-warn-script-location.\u001b[0m\u001b[33m\n",
            "\u001b[0m"
          ]
        }
      ]
    },
    {
      "cell_type": "code",
      "source": [
        "import requests\n",
        "from bs4 import BeautifulSoup\n",
        "import pandas as pd\n",
        "# import tempfile\n",
        "\n",
        "def fetch_data_from_url_with_pagination(base_url, max_pages=5):\n",
        "    headers = {\n",
        "        \"User-Agent\": \"Mozilla/5.0 (Windows NT 10.0; Win64; x64) AppleWebKit/537.36 (KHTML, like Gecko) Chrome/91.0.4472.124 Safari/537.36\"\n",
        "    }\n",
        "\n",
        "    session = requests.Session()\n",
        "    session.headers.update(headers)\n",
        "\n",
        "    combined_data = []\n",
        "\n",
        "    for page in range(1, max_pages + 1):\n",
        "        # Add pagination only if page > 1 (to handle single-page URLs)\n",
        "        if page == 1:\n",
        "            url = base_url\n",
        "        else:\n",
        "            url = f\"{base_url}&r={(page - 1) * 20 + 1}\"\n",
        "\n",
        "        response = session.get(url)\n",
        "\n",
        "        if response.status_code != 200:\n",
        "            print(f\"Failed to fetch page: {page} (status: {response.status_code})\")\n",
        "            break\n",
        "\n",
        "        soup = BeautifulSoup(response.text, 'html.parser')\n",
        "        rows = soup.select('tr[valign=\"top\"]')\n",
        "\n",
        "        # Stop if no rows are found\n",
        "        if not rows:\n",
        "            print(f\"No data found on page {page}. Stopping.\")\n",
        "            break\n",
        "\n",
        "        # Process rows\n",
        "        for row in rows:\n",
        "            cells = row.find_all('td')\n",
        "            if len(cells) == 11:  # Ensure valid row with 11 columns\n",
        "                combined_data.append([cell.text.strip() for cell in cells])\n",
        "\n",
        "        # If it’s a single-page URL, stop after the first page\n",
        "        if page == 1 and len(rows) < 20:  # Assuming <20 rows means no pagination\n",
        "            break\n",
        "\n",
        "    # Define columns\n",
        "    columns = [\n",
        "        'No.', 'Ticker', 'Company', 'Sector', 'Industry',\n",
        "        'Country', 'Market Cap', 'P/E', 'Price', 'Change', 'Volume'\n",
        "    ]\n",
        "\n",
        "    # Create DataFrame\n",
        "    df = pd.DataFrame(combined_data, columns=columns)\n",
        "\n",
        "    # Remove duplicate tickers\n",
        "    df = df.drop_duplicates(subset=['Ticker'], keep='first')\n",
        "\n",
        "    tickers = df['Ticker'].tolist()\n",
        "\n",
        "\n",
        "    # Convert the tickers list to a string with each ticker on a new line\n",
        "    tickers_str = \"\\n\".join(tickers)\n",
        "    return tickers_str\n",
        "\n",
        "    # # Create a temporary file\n",
        "    # with tempfile.NamedTemporaryFile(mode=\"w+\", delete=False, suffix=\".txt\") as tmp_file:\n",
        "    #     tmp_file.write(tickers_str)\n",
        "    #     file_path = tmp_file.name  # Get the path of the temporary file\n",
        "\n",
        "    # return file_path  # Return the file path\n"
      ],
      "metadata": {
        "id": "uNUWUgrSg72e"
      },
      "execution_count": null,
      "outputs": []
    },
    {
      "cell_type": "code",
      "source": [
        "import gradio as gr\n",
        "\n",
        "# creating the deployment input interface\n",
        "model_inputs = [\n",
        "    gr.Textbox(label=\"Url\")\n",
        "]\n",
        "\n",
        "# creating the deployment output interface\n",
        "model_outputs = [\n",
        "    gr.Textbox(label=\"Tickers...\")\n",
        "]\n",
        "\n",
        "# # creating the deployment output interface\n",
        "# model_outputs = [\n",
        "#     gr.File(label=\"Download Tickers\") # Use gr.File instead of gr.Textbox\n",
        "# ]\n",
        "\n",
        "# defining the structure of the deployment interface and how the components will interact\n",
        "demo = gr.Interface(\n",
        "    fn = fetch_data_from_url_with_pagination,\n",
        "    inputs = model_inputs,\n",
        "    outputs = model_outputs,\n",
        "    allow_flagging='never',\n",
        "    title = \"Ticker Fetcher\",\n",
        "    description = \"This interface will fetch the tickers for the given Finviz url.\",\n",
        ")"
      ],
      "metadata": {
        "colab": {
          "base_uri": "https://localhost:8080/"
        },
        "id": "pXD8zY94fwdG",
        "outputId": "fe4a8306-8170-4bd5-edbb-432f67b77263"
      },
      "execution_count": null,
      "outputs": [
        {
          "output_type": "stream",
          "name": "stderr",
          "text": [
            "/root/.local/lib/python3.10/site-packages/gradio/interface.py:399: UserWarning: The `allow_flagging` parameter in `Interface` is deprecated.Use `flagging_mode` instead.\n",
            "  warnings.warn(\n"
          ]
        }
      ]
    },
    {
      "cell_type": "code",
      "source": [
        "# deploying the model\n",
        "demo.launch(inline=False, share=True, debug=True)"
      ],
      "metadata": {
        "colab": {
          "base_uri": "https://localhost:8080/"
        },
        "id": "w5ZMOBKzhbpC",
        "outputId": "9dfc890e-b23b-4eb3-9919-d1bc9fb68c91"
      },
      "execution_count": null,
      "outputs": [
        {
          "output_type": "stream",
          "name": "stdout",
          "text": [
            "Colab notebook detected. This cell will run indefinitely so that you can see errors and logs. To turn off, set debug=False in launch().\n",
            "* Running on public URL: https://dc720b0b9c4d482151.gradio.live\n",
            "\n",
            "This share link expires in 72 hours. For free permanent hosting and GPU upgrades, run `gradio deploy` from the terminal in the working directory to deploy to Hugging Face Spaces (https://huggingface.co/spaces)\n",
            "Keyboard interruption in main thread... closing server.\n",
            "Killing tunnel 127.0.0.1:7860 <> https://dc720b0b9c4d482151.gradio.live\n"
          ]
        },
        {
          "output_type": "execute_result",
          "data": {
            "text/plain": []
          },
          "metadata": {},
          "execution_count": 24
        }
      ]
    },
    {
      "cell_type": "code",
      "source": [
        "demo.close()"
      ],
      "metadata": {
        "colab": {
          "base_uri": "https://localhost:8080/"
        },
        "id": "fo_RFsmlheet",
        "outputId": "ecf3243b-07a1-4e00-fb5f-47dec31d883b"
      },
      "execution_count": null,
      "outputs": [
        {
          "output_type": "stream",
          "name": "stdout",
          "text": [
            "Closing server running on port: 7860\n"
          ]
        }
      ]
    },
    {
      "cell_type": "code",
      "source": [],
      "metadata": {
        "id": "oKMOmDJ7jTtH"
      },
      "execution_count": null,
      "outputs": []
    }
  ]
}